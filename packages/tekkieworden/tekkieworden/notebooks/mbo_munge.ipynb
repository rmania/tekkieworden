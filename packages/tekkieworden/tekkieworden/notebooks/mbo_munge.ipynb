{
 "cells": [
  {
   "cell_type": "code",
   "execution_count": 1,
   "metadata": {},
   "outputs": [],
   "source": [
    "import pandas as pd\n",
    "import logging\n",
    "\n",
    "from tekkieworden.config import config\n",
    "from tekkieworden.processing.munge import *\n",
    "\n",
    "# config\n",
    "pd.set_option(\"display.max_columns\", 100)"
   ]
  },
  {
   "cell_type": "markdown",
   "metadata": {},
   "source": [
    "### MBO"
   ]
  },
  {
   "cell_type": "code",
   "execution_count": 2,
   "metadata": {},
   "outputs": [],
   "source": [
    "mbo_d = pd.read_csv(str(config.PATH_TO_RAW_DATA) + '/mbo_gediplomeerden_2019.csv', sep=';')\n",
    "mbo_d.columns = mbo_d.columns.str.lower().str.replace(\" \", \"_\")\n",
    "mbo_rename_d_dict = {'dipman2015': '2015_man_d',\n",
    " 'dipvrw2015': '2015_vrouw_d',\n",
    " 'diptotaal2015': '2015_tot_d',\n",
    " 'dipman2016': '2016_man_d',\n",
    " 'dipvrw2016': '2016_vrouw_d',\n",
    " 'diptotaal2016': '2016_tot_d',\n",
    " 'dipman2017': '2017_man_d',\n",
    " 'dipvrw2017': '2017_vrouw_d',\n",
    " 'diptotaal2017': '2017_tot_d',\n",
    " 'dipman2018': '2018_man_d',\n",
    " 'dipvrw2018': '2018_vrouw_d',\n",
    " 'diptotaa2018l': '2018_tot_d',\n",
    " 'dipman2019': '2019_man_d',\n",
    " 'dipvrw2019': '2019_vrouw_d',\n",
    " 'diptotaal2019': '2019_tot_d'}\n",
    "mbo_d = mbo_d.rename(columns=mbo_rename_d_dict)"
   ]
  },
  {
   "cell_type": "code",
   "execution_count": 3,
   "metadata": {},
   "outputs": [],
   "source": [
    "mbo = pd.read_csv(str(config.PATH_TO_RAW_DATA) + '/mbo_inscriptions_2019.csv', sep=';')\n",
    "mbo.columns = mbo.columns.str.lower().str.replace(\" \", \"_\")\n",
    "mbo_rename_i_dict = {'man2015': '2015_man_i',\n",
    " 'vrouw2015': '2015_vrouw_i',\n",
    " 'totaal2015': '2015_tot_i',\n",
    " 'man2016': '2016_man_i',\n",
    " 'vrouw2016': '2016_vrouw_i',\n",
    " 'totaal2016': '2016_tot_i',\n",
    " 'man2017': '2017_man_i',\n",
    " 'vrouw2017': '2017_vrouw_i',\n",
    " 'totaal2017': '2017_tot_i',\n",
    " 'man2018': '2018_man_i',\n",
    " 'vrouw2018': '2018_vrouw_i',\n",
    " 'totaal2018': '2018_tot_i',\n",
    " 'man2019': '2019_man_i',\n",
    " 'vrouw2019': '2019_vrouw_i',\n",
    " 'totaal2019': '2019_tot_i'}\n",
    "mbo = mbo.rename(columns=mbo_rename_i_dict)"
   ]
  },
  {
   "cell_type": "code",
   "execution_count": 4,
   "metadata": {},
   "outputs": [],
   "source": [
    "def unstack_duo_mbo_files(input_df):\n",
    "    agg_cols = input_df.filter(regex='\\d', axis=1).columns.tolist()\n",
    "    groupby_cols = ['brin_nummer', 'kwalificatie_code', 'kwalificatie_naam']\n",
    "    agg = input_df.groupby(groupby_cols)[agg_cols].sum()\n",
    "    logging.info(f\"dataframe shape: {agg.shape}\")\n",
    "    return agg"
   ]
  },
  {
   "cell_type": "code",
   "execution_count": 5,
   "metadata": {},
   "outputs": [
    {
     "name": "stderr",
     "output_type": "stream",
     "text": [
      "INFO:root:dataframe shape: (14029, 15)\n",
      "INFO:root:dataframe shape: (12557, 15)\n"
     ]
    }
   ],
   "source": [
    "mbo_i_agg = unstack_duo_mbo_files(input_df=mbo)\n",
    "mbo_d_agg = unstack_duo_mbo_files(input_df=mbo_d)"
   ]
  },
  {
   "cell_type": "code",
   "execution_count": 6,
   "metadata": {},
   "outputs": [],
   "source": [
    "from tekkieworden.processing.utilities import pandas_join_on_index"
   ]
  },
  {
   "cell_type": "code",
   "execution_count": 7,
   "metadata": {},
   "outputs": [],
   "source": [
    "def pandas_join_on_index(left_df, right_df, how=\"inner\"):\n",
    "\n",
    "    logging.info(f\"left_df shape: {left_df.shape}\")\n",
    "    logging.info(f\"right_df shape: {right_df.shape}\")\n",
    "\n",
    "    logging.info(f\"joining on left_indices: {[i for i in left_df.index.names]}\")\n",
    "    logging.info(f\"joining on left_key: {[i for i in right_df.index.names]}\")\n",
    "\n",
    "    joined_df = pd.merge(\n",
    "        left_df, right_df, how=how, left_index=True, right_index=True, indicator=True\n",
    "    )\n",
    "\n",
    "    logging.info(f\"Join result\\n\\t{joined_df._merge.value_counts()}\")\n",
    "    logging.info(f\"joined df: {joined_df.shape}\")\n",
    "\n",
    "    return joined_df"
   ]
  },
  {
   "cell_type": "code",
   "execution_count": 8,
   "metadata": {},
   "outputs": [
    {
     "name": "stderr",
     "output_type": "stream",
     "text": [
      "INFO:root:left_df shape: (14029, 15)\n",
      "INFO:root:right_df shape: (12557, 15)\n",
      "INFO:root:joining on left_indices: ['brin_nummer', 'kwalificatie_code', 'kwalificatie_naam']\n",
      "INFO:root:joining on left_key: ['brin_nummer', 'kwalificatie_code', 'kwalificatie_naam']\n",
      "INFO:root:Join result\n",
      "\tboth          11517\n",
      "left_only      2512\n",
      "right_only        0\n",
      "Name: _merge, dtype: int64\n",
      "INFO:root:joined df: (14029, 31)\n"
     ]
    }
   ],
   "source": [
    "df = pandas_join_on_index(left_df=mbo_i_agg, right_df=mbo_d_agg, how='left')"
   ]
  },
  {
   "cell_type": "code",
   "execution_count": 9,
   "metadata": {},
   "outputs": [],
   "source": [
    "df = df.reset_index()"
   ]
  },
  {
   "cell_type": "code",
   "execution_count": 11,
   "metadata": {},
   "outputs": [
    {
     "data": {
      "text/html": [
       "<div>\n",
       "<style scoped>\n",
       "    .dataframe tbody tr th:only-of-type {\n",
       "        vertical-align: middle;\n",
       "    }\n",
       "\n",
       "    .dataframe tbody tr th {\n",
       "        vertical-align: top;\n",
       "    }\n",
       "\n",
       "    .dataframe thead th {\n",
       "        text-align: right;\n",
       "    }\n",
       "</style>\n",
       "<table border=\"1\" class=\"dataframe\">\n",
       "  <thead>\n",
       "    <tr style=\"text-align: right;\">\n",
       "      <th></th>\n",
       "      <th>brin_nummer</th>\n",
       "      <th>kwalificatie_code</th>\n",
       "      <th>kwalificatie_naam</th>\n",
       "      <th>2015_man_i</th>\n",
       "      <th>2015_vrouw_i</th>\n",
       "      <th>2015_tot_i</th>\n",
       "      <th>2016_man_i</th>\n",
       "      <th>2016_vrouw_i</th>\n",
       "      <th>2016_tot_i</th>\n",
       "      <th>2017_man_i</th>\n",
       "      <th>2017_vrouw_i</th>\n",
       "      <th>2017_tot_i</th>\n",
       "      <th>2018_man_i</th>\n",
       "      <th>2018_vrouw_i</th>\n",
       "      <th>2018_tot_i</th>\n",
       "      <th>2019_man_i</th>\n",
       "      <th>2019_vrouw_i</th>\n",
       "      <th>2019_tot_i</th>\n",
       "      <th>2015_man_d</th>\n",
       "      <th>2015_vrouw_d</th>\n",
       "      <th>2015_tot_d</th>\n",
       "      <th>2016_man_d</th>\n",
       "      <th>2016_vrouw_d</th>\n",
       "      <th>2016_tot_d</th>\n",
       "      <th>2017_man_d</th>\n",
       "      <th>2017_vrouw_d</th>\n",
       "      <th>2017_tot_d</th>\n",
       "      <th>2018_man_d</th>\n",
       "      <th>2018_vrouw_d</th>\n",
       "      <th>2018_tot_d</th>\n",
       "      <th>2019_man_d</th>\n",
       "      <th>2019_vrouw_d</th>\n",
       "      <th>2019_tot_d</th>\n",
       "      <th>_merge</th>\n",
       "    </tr>\n",
       "  </thead>\n",
       "  <tbody>\n",
       "    <tr>\n",
       "      <th>0</th>\n",
       "      <td>00GT</td>\n",
       "      <td>22090.0</td>\n",
       "      <td>Podium- en evenemententechniek</td>\n",
       "      <td>6.0</td>\n",
       "      <td>2.0</td>\n",
       "      <td>8.0</td>\n",
       "      <td>1.0</td>\n",
       "      <td>2.0</td>\n",
       "      <td>3.0</td>\n",
       "      <td>0.0</td>\n",
       "      <td>0.0</td>\n",
       "      <td>0.0</td>\n",
       "      <td>0.0</td>\n",
       "      <td>0.0</td>\n",
       "      <td>0.0</td>\n",
       "      <td>0.0</td>\n",
       "      <td>0.0</td>\n",
       "      <td>0.0</td>\n",
       "      <td>NaN</td>\n",
       "      <td>NaN</td>\n",
       "      <td>NaN</td>\n",
       "      <td>NaN</td>\n",
       "      <td>NaN</td>\n",
       "      <td>NaN</td>\n",
       "      <td>NaN</td>\n",
       "      <td>NaN</td>\n",
       "      <td>NaN</td>\n",
       "      <td>NaN</td>\n",
       "      <td>NaN</td>\n",
       "      <td>NaN</td>\n",
       "      <td>NaN</td>\n",
       "      <td>NaN</td>\n",
       "      <td>NaN</td>\n",
       "      <td>left_only</td>\n",
       "    </tr>\n",
       "    <tr>\n",
       "      <th>1</th>\n",
       "      <td>00GT</td>\n",
       "      <td>22142.0</td>\n",
       "      <td>Verkoper</td>\n",
       "      <td>67.0</td>\n",
       "      <td>19.0</td>\n",
       "      <td>86.0</td>\n",
       "      <td>0.0</td>\n",
       "      <td>0.0</td>\n",
       "      <td>0.0</td>\n",
       "      <td>0.0</td>\n",
       "      <td>0.0</td>\n",
       "      <td>0.0</td>\n",
       "      <td>0.0</td>\n",
       "      <td>0.0</td>\n",
       "      <td>0.0</td>\n",
       "      <td>0.0</td>\n",
       "      <td>0.0</td>\n",
       "      <td>0.0</td>\n",
       "      <td>NaN</td>\n",
       "      <td>NaN</td>\n",
       "      <td>NaN</td>\n",
       "      <td>NaN</td>\n",
       "      <td>NaN</td>\n",
       "      <td>NaN</td>\n",
       "      <td>NaN</td>\n",
       "      <td>NaN</td>\n",
       "      <td>NaN</td>\n",
       "      <td>NaN</td>\n",
       "      <td>NaN</td>\n",
       "      <td>NaN</td>\n",
       "      <td>NaN</td>\n",
       "      <td>NaN</td>\n",
       "      <td>NaN</td>\n",
       "      <td>left_only</td>\n",
       "    </tr>\n",
       "  </tbody>\n",
       "</table>\n",
       "</div>"
      ],
      "text/plain": [
       "  brin_nummer  kwalificatie_code               kwalificatie_naam  2015_man_i  \\\n",
       "0        00GT            22090.0  Podium- en evenemententechniek         6.0   \n",
       "1        00GT            22142.0                        Verkoper        67.0   \n",
       "\n",
       "   2015_vrouw_i  2015_tot_i  2016_man_i  2016_vrouw_i  2016_tot_i  2017_man_i  \\\n",
       "0           2.0         8.0         1.0           2.0         3.0         0.0   \n",
       "1          19.0        86.0         0.0           0.0         0.0         0.0   \n",
       "\n",
       "   2017_vrouw_i  2017_tot_i  2018_man_i  2018_vrouw_i  2018_tot_i  2019_man_i  \\\n",
       "0           0.0         0.0         0.0           0.0         0.0         0.0   \n",
       "1           0.0         0.0         0.0           0.0         0.0         0.0   \n",
       "\n",
       "   2019_vrouw_i  2019_tot_i  2015_man_d  2015_vrouw_d  2015_tot_d  2016_man_d  \\\n",
       "0           0.0         0.0         NaN           NaN         NaN         NaN   \n",
       "1           0.0         0.0         NaN           NaN         NaN         NaN   \n",
       "\n",
       "   2016_vrouw_d  2016_tot_d  2017_man_d  2017_vrouw_d  2017_tot_d  2018_man_d  \\\n",
       "0           NaN         NaN         NaN           NaN         NaN         NaN   \n",
       "1           NaN         NaN         NaN           NaN         NaN         NaN   \n",
       "\n",
       "   2018_vrouw_d  2018_tot_d  2019_man_d  2019_vrouw_d  2019_tot_d     _merge  \n",
       "0           NaN         NaN         NaN           NaN         NaN  left_only  \n",
       "1           NaN         NaN         NaN           NaN         NaN  left_only  "
      ]
     },
     "execution_count": 11,
     "metadata": {},
     "output_type": "execute_result"
    }
   ],
   "source": [
    "df.head(2)"
   ]
  },
  {
   "cell_type": "code",
   "execution_count": 13,
   "metadata": {},
   "outputs": [],
   "source": [
    "df = label_tech_studies(input_df=df, yaml_file='mbo_tech_labels.yml', label_col='kwalificatie_naam')"
   ]
  },
  {
   "cell_type": "code",
   "execution_count": 14,
   "metadata": {},
   "outputs": [
    {
     "data": {
      "text/plain": [
       "no_tech    13078\n",
       "tech         702\n",
       "growth       146\n",
       "design       103\n",
       "Name: tech_label, dtype: int64"
      ]
     },
     "execution_count": 14,
     "metadata": {},
     "output_type": "execute_result"
    }
   ],
   "source": [
    "df.tech_label.value_counts()"
   ]
  }
 ],
 "metadata": {
  "kernelspec": {
   "display_name": "tekkieworden",
   "language": "python",
   "name": "tekkieworden"
  },
  "language_info": {
   "codemirror_mode": {
    "name": "ipython",
    "version": 3
   },
   "file_extension": ".py",
   "mimetype": "text/x-python",
   "name": "python",
   "nbconvert_exporter": "python",
   "pygments_lexer": "ipython3",
   "version": "3.7.6"
  }
 },
 "nbformat": 4,
 "nbformat_minor": 4
}
